{
 "cells": [
  {
   "cell_type": "code",
   "execution_count": 1,
   "id": "fe0b391b",
   "metadata": {},
   "outputs": [],
   "source": [
    "import pandas as pd\n",
    "import seaborn as sns\n",
    "import matplotlib.pyplot as plt\n",
    "import pandas as pd\n",
    "from sklearn.model_selection import train_test_split\n",
    "from sklearn.tree import DecisionTreeClassifier\n",
    "from sklearn.metrics import accuracy_score, classification_report, confusion_matrix\n",
    "from sklearn.preprocessing import LabelEncoder\n",
    "from sklearn import tree\n",
    "from sklearn.decomposition import PCA\n",
    "import pickle"
   ]
  },
  {
   "cell_type": "code",
   "execution_count": 2,
   "id": "1d137d9e",
   "metadata": {},
   "outputs": [
    {
     "name": "stdout",
     "output_type": "stream",
     "text": [
      "<class 'pandas.core.frame.DataFrame'>\n",
      "RangeIndex: 300 entries, 0 to 299\n",
      "Data columns (total 26 columns):\n",
      " #   Column                                  Non-Null Count  Dtype \n",
      "---  ------                                  --------------  ----- \n",
      " 0   Age                                     300 non-null    int64 \n",
      " 1   Sex                                     300 non-null    int64 \n",
      " 2   wearables                               300 non-null    int64 \n",
      " 3   Duration                                300 non-null    int64 \n",
      " 4   onlineplatforms                         300 non-null    int64 \n",
      " 5   Nature                                  300 non-null    int64 \n",
      " 6   screenillumination                      300 non-null    int64 \n",
      " 7   workingyears                            300 non-null    int64 \n",
      " 8   hoursspentdailycurricular               300 non-null    int64 \n",
      " 9   hoursspentdailynoncurricular            300 non-null    int64 \n",
      " 10  Gadgetsused                             300 non-null    int64 \n",
      " 11  levelofgadjetwithrespecttoeyes          300 non-null    int64 \n",
      " 12  Distancekeptbetweeneyesandgadjet        300 non-null    int64 \n",
      " 13  Avgnighttimeusageperday                 300 non-null    int64 \n",
      " 14  Blinkingduringscreenusage               300 non-null    int64 \n",
      " 15  Difficultyinfocusingafterusingscreens   300 non-null    int64 \n",
      " 16  freqquencyofcomplaints                  300 non-null    int64 \n",
      " 17  Severityofcomplaints                    300 non-null    int64 \n",
      " 18  Ocularsymptomsobservedlately            300 non-null    int64 \n",
      " 19  Symptomsobservingatleasthalfofthetimes  300 non-null    int64 \n",
      " 20  Complaintsfrequency                     300 non-null    int64 \n",
      " 21  frequencyofdryeyes                      300 non-null    int64 \n",
      " 22  Schimers1Lefteye_1                      300 non-null    object\n",
      " 23  Schimers1righteye_1                     300 non-null    object\n",
      " 24  Schimers2Lefteye_1                      300 non-null    object\n",
      " 25  Schimers2righteye_1                     300 non-null    object\n",
      "dtypes: int64(22), object(4)\n",
      "memory usage: 61.1+ KB\n"
     ]
    }
   ],
   "source": [
    "df=pd.read_excel(\"C://Users//thiru//Downloads//mini project//Capstone Project 1-20240822T144922Z-001//Capstone Project 1//datasets//dgclean.xlsx\")\n",
    "df.info()"
   ]
  },
  {
   "cell_type": "code",
   "execution_count": 3,
   "id": "7ac08b56",
   "metadata": {},
   "outputs": [],
   "source": [
    "X = df.drop(['Schimers1Lefteye_1', 'Schimers1righteye_1', 'Schimers2Lefteye_1', 'Schimers2righteye_1','onlineplatforms', 'Sex', 'Distancekeptbetweeneyesandgadjet', 'levelofgadjetwithrespecttoeyes', 'Duration', \n",
    "             'Difficultyinfocusingafterusingscreens', 'frequencyofdryeyes','screenillumination'\n",
    "], axis=1)\n",
    "# X = df[['Severityofcomplaints','freqquencyofcomplaints','Age','Ocularsymptomsobservedlately','hoursspentdailynoncurricular','Complaintsfrequency']]\n",
    "y1 = df['Schimers1Lefteye_1'] \n",
    "y2 = df['Schimers1righteye_1'] \n",
    "y3 = df['Schimers2Lefteye_1'] \n",
    "y4 = df['Schimers2righteye_1'] \n",
    "# Encode categorical variables if needed\n",
    "# For example, if any other columns contain non-numeric data\n",
    "# encoder = LabelEncoder()\n",
    "# data['SomeColumn'] = encoder.fit_transform(data['SomeColumn'])\n",
    "\n",
    "\n",
    "\n",
    "# Train-test split\n",
    "X_train1, X_test1, y_train1, y_test1 = train_test_split(X, y1, test_size=0.2, random_state=42)\n",
    "X_train2, X_test2, y_train2, y_test2= train_test_split(X, y2, test_size=0.2, random_state=42)\n",
    "X_train3, X_test3, y_train3, y_test3 = train_test_split(X, y3, test_size=0.2, random_state=42)\n",
    "X_train4, X_test4, y_train4, y_test4 = train_test_split(X, y4, test_size=0.2, random_state=42)\n",
    "\n",
    "\n",
    "# Initialize decision tree classifier\n",
    "clf1 = DecisionTreeClassifier(random_state=42)\n",
    "clf2 = DecisionTreeClassifier(random_state=42)\n",
    "clf3 = DecisionTreeClassifier(random_state=42)\n",
    "clf4 = DecisionTreeClassifier(random_state=42)\n",
    "\n",
    "# Train the classifier\n",
    "clf1.fit(X_train1, y_train1)\n",
    "clf2.fit(X_train2, y_train2)\n",
    "clf3.fit(X_train3, y_train3)\n",
    "clf4.fit(X_train4, y_train4)\n",
    "\n",
    "# Make predictions\n",
    "y_pred1 = clf1.predict(X_test1)\n",
    "y_pred2 = clf2.predict(X_test2)\n",
    "y_pred3 = clf3.predict(X_test3)\n",
    "y_pred4 = clf4.predict(X_test4)\n",
    "\n",
    "# Evaluate the model\n",
    "accuracy1 = accuracy_score(y_test1, y_pred1)\n",
    "accuracy2 = accuracy_score(y_test2, y_pred2)\n",
    "accuracy3 = accuracy_score(y_test3, y_pred3)\n",
    "accuracy4 = accuracy_score(y_test4, y_pred4)"
   ]
  },
  {
   "cell_type": "code",
   "execution_count": 5,
   "id": "10564ca0",
   "metadata": {},
   "outputs": [
    {
     "ename": "FileNotFoundError",
     "evalue": "[Errno 2] No such file or directory: 'C:/Users/thiru/Downloads/mini project/Capstone Project 1-20240822T144922Z-001/Capstone Project 1/datasets/valid.xlsx'",
     "output_type": "error",
     "traceback": [
      "\u001b[1;31m---------------------------------------------------------------------------\u001b[0m",
      "\u001b[1;31mFileNotFoundError\u001b[0m                         Traceback (most recent call last)",
      "Cell \u001b[1;32mIn[5], line 2\u001b[0m\n\u001b[0;32m      1\u001b[0m \u001b[38;5;66;03m# Assuming your validation data is stored in a CSV file called 'validation_data.csv'\u001b[39;00m\n\u001b[1;32m----> 2\u001b[0m validation_df \u001b[38;5;241m=\u001b[39mpd\u001b[38;5;241m.\u001b[39mread_excel(\u001b[38;5;124m\"\u001b[39m\u001b[38;5;124mC://Users//thiru//Downloads//mini project//Capstone Project 1-20240822T144922Z-001//Capstone Project 1//datasets//valid.xlsx\u001b[39m\u001b[38;5;124m\"\u001b[39m)\n\u001b[0;32m      4\u001b[0m \u001b[38;5;66;03m# Drop columns similar to the ones you dropped for training data\u001b[39;00m\n\u001b[0;32m      5\u001b[0m X_validation \u001b[38;5;241m=\u001b[39m validation_df\u001b[38;5;241m.\u001b[39mdrop([\u001b[38;5;124m'\u001b[39m\u001b[38;5;124mName\u001b[39m\u001b[38;5;124m'\u001b[39m,\u001b[38;5;124m'\u001b[39m\u001b[38;5;124monlineplatforms\u001b[39m\u001b[38;5;124m'\u001b[39m, \u001b[38;5;124m'\u001b[39m\u001b[38;5;124mSex\u001b[39m\u001b[38;5;124m'\u001b[39m, \u001b[38;5;124m'\u001b[39m\u001b[38;5;124mDistancekeptbetweeneyesandgadjet\u001b[39m\u001b[38;5;124m'\u001b[39m, \u001b[38;5;124m'\u001b[39m\u001b[38;5;124mlevelofgadjetwithrespecttoeyes\u001b[39m\u001b[38;5;124m'\u001b[39m, \n\u001b[0;32m      6\u001b[0m                                    \u001b[38;5;124m'\u001b[39m\u001b[38;5;124mDuration\u001b[39m\u001b[38;5;124m'\u001b[39m, \u001b[38;5;124m'\u001b[39m\u001b[38;5;124mDifficultyinfocusingafterusingscreens\u001b[39m\u001b[38;5;124m'\u001b[39m, \u001b[38;5;124m'\u001b[39m\u001b[38;5;124mfrequencyofdryeyes\u001b[39m\u001b[38;5;124m'\u001b[39m,\u001b[38;5;124m'\u001b[39m\u001b[38;5;124mscreenillumination\u001b[39m\u001b[38;5;124m'\u001b[39m], \n\u001b[0;32m      7\u001b[0m                                   axis\u001b[38;5;241m=\u001b[39m\u001b[38;5;241m1\u001b[39m)\n",
      "File \u001b[1;32m~\\anaconda3\\Lib\\site-packages\\pandas\\io\\excel\\_base.py:478\u001b[0m, in \u001b[0;36mread_excel\u001b[1;34m(io, sheet_name, header, names, index_col, usecols, dtype, engine, converters, true_values, false_values, skiprows, nrows, na_values, keep_default_na, na_filter, verbose, parse_dates, date_parser, date_format, thousands, decimal, comment, skipfooter, storage_options, dtype_backend)\u001b[0m\n\u001b[0;32m    476\u001b[0m \u001b[38;5;28;01mif\u001b[39;00m \u001b[38;5;129;01mnot\u001b[39;00m \u001b[38;5;28misinstance\u001b[39m(io, ExcelFile):\n\u001b[0;32m    477\u001b[0m     should_close \u001b[38;5;241m=\u001b[39m \u001b[38;5;28;01mTrue\u001b[39;00m\n\u001b[1;32m--> 478\u001b[0m     io \u001b[38;5;241m=\u001b[39m ExcelFile(io, storage_options\u001b[38;5;241m=\u001b[39mstorage_options, engine\u001b[38;5;241m=\u001b[39mengine)\n\u001b[0;32m    479\u001b[0m \u001b[38;5;28;01melif\u001b[39;00m engine \u001b[38;5;129;01mand\u001b[39;00m engine \u001b[38;5;241m!=\u001b[39m io\u001b[38;5;241m.\u001b[39mengine:\n\u001b[0;32m    480\u001b[0m     \u001b[38;5;28;01mraise\u001b[39;00m \u001b[38;5;167;01mValueError\u001b[39;00m(\n\u001b[0;32m    481\u001b[0m         \u001b[38;5;124m\"\u001b[39m\u001b[38;5;124mEngine should not be specified when passing \u001b[39m\u001b[38;5;124m\"\u001b[39m\n\u001b[0;32m    482\u001b[0m         \u001b[38;5;124m\"\u001b[39m\u001b[38;5;124man ExcelFile - ExcelFile already has the engine set\u001b[39m\u001b[38;5;124m\"\u001b[39m\n\u001b[0;32m    483\u001b[0m     )\n",
      "File \u001b[1;32m~\\anaconda3\\Lib\\site-packages\\pandas\\io\\excel\\_base.py:1496\u001b[0m, in \u001b[0;36mExcelFile.__init__\u001b[1;34m(self, path_or_buffer, engine, storage_options)\u001b[0m\n\u001b[0;32m   1494\u001b[0m     ext \u001b[38;5;241m=\u001b[39m \u001b[38;5;124m\"\u001b[39m\u001b[38;5;124mxls\u001b[39m\u001b[38;5;124m\"\u001b[39m\n\u001b[0;32m   1495\u001b[0m \u001b[38;5;28;01melse\u001b[39;00m:\n\u001b[1;32m-> 1496\u001b[0m     ext \u001b[38;5;241m=\u001b[39m inspect_excel_format(\n\u001b[0;32m   1497\u001b[0m         content_or_path\u001b[38;5;241m=\u001b[39mpath_or_buffer, storage_options\u001b[38;5;241m=\u001b[39mstorage_options\n\u001b[0;32m   1498\u001b[0m     )\n\u001b[0;32m   1499\u001b[0m     \u001b[38;5;28;01mif\u001b[39;00m ext \u001b[38;5;129;01mis\u001b[39;00m \u001b[38;5;28;01mNone\u001b[39;00m:\n\u001b[0;32m   1500\u001b[0m         \u001b[38;5;28;01mraise\u001b[39;00m \u001b[38;5;167;01mValueError\u001b[39;00m(\n\u001b[0;32m   1501\u001b[0m             \u001b[38;5;124m\"\u001b[39m\u001b[38;5;124mExcel file format cannot be determined, you must specify \u001b[39m\u001b[38;5;124m\"\u001b[39m\n\u001b[0;32m   1502\u001b[0m             \u001b[38;5;124m\"\u001b[39m\u001b[38;5;124man engine manually.\u001b[39m\u001b[38;5;124m\"\u001b[39m\n\u001b[0;32m   1503\u001b[0m         )\n",
      "File \u001b[1;32m~\\anaconda3\\Lib\\site-packages\\pandas\\io\\excel\\_base.py:1371\u001b[0m, in \u001b[0;36minspect_excel_format\u001b[1;34m(content_or_path, storage_options)\u001b[0m\n\u001b[0;32m   1368\u001b[0m \u001b[38;5;28;01mif\u001b[39;00m \u001b[38;5;28misinstance\u001b[39m(content_or_path, \u001b[38;5;28mbytes\u001b[39m):\n\u001b[0;32m   1369\u001b[0m     content_or_path \u001b[38;5;241m=\u001b[39m BytesIO(content_or_path)\n\u001b[1;32m-> 1371\u001b[0m \u001b[38;5;28;01mwith\u001b[39;00m get_handle(\n\u001b[0;32m   1372\u001b[0m     content_or_path, \u001b[38;5;124m\"\u001b[39m\u001b[38;5;124mrb\u001b[39m\u001b[38;5;124m\"\u001b[39m, storage_options\u001b[38;5;241m=\u001b[39mstorage_options, is_text\u001b[38;5;241m=\u001b[39m\u001b[38;5;28;01mFalse\u001b[39;00m\n\u001b[0;32m   1373\u001b[0m ) \u001b[38;5;28;01mas\u001b[39;00m handle:\n\u001b[0;32m   1374\u001b[0m     stream \u001b[38;5;241m=\u001b[39m handle\u001b[38;5;241m.\u001b[39mhandle\n\u001b[0;32m   1375\u001b[0m     stream\u001b[38;5;241m.\u001b[39mseek(\u001b[38;5;241m0\u001b[39m)\n",
      "File \u001b[1;32m~\\anaconda3\\Lib\\site-packages\\pandas\\io\\common.py:716\u001b[0m, in \u001b[0;36mget_handle\u001b[1;34m(path_or_buf, mode, encoding, compression, memory_map, is_text, errors, storage_options)\u001b[0m\n\u001b[0;32m    713\u001b[0m     codecs\u001b[38;5;241m.\u001b[39mlookup_error(errors)\n\u001b[0;32m    715\u001b[0m \u001b[38;5;66;03m# open URLs\u001b[39;00m\n\u001b[1;32m--> 716\u001b[0m ioargs \u001b[38;5;241m=\u001b[39m _get_filepath_or_buffer(\n\u001b[0;32m    717\u001b[0m     path_or_buf,\n\u001b[0;32m    718\u001b[0m     encoding\u001b[38;5;241m=\u001b[39mencoding,\n\u001b[0;32m    719\u001b[0m     compression\u001b[38;5;241m=\u001b[39mcompression,\n\u001b[0;32m    720\u001b[0m     mode\u001b[38;5;241m=\u001b[39mmode,\n\u001b[0;32m    721\u001b[0m     storage_options\u001b[38;5;241m=\u001b[39mstorage_options,\n\u001b[0;32m    722\u001b[0m )\n\u001b[0;32m    724\u001b[0m handle \u001b[38;5;241m=\u001b[39m ioargs\u001b[38;5;241m.\u001b[39mfilepath_or_buffer\n\u001b[0;32m    725\u001b[0m handles: \u001b[38;5;28mlist\u001b[39m[BaseBuffer]\n",
      "File \u001b[1;32m~\\anaconda3\\Lib\\site-packages\\pandas\\io\\common.py:416\u001b[0m, in \u001b[0;36m_get_filepath_or_buffer\u001b[1;34m(filepath_or_buffer, encoding, compression, mode, storage_options)\u001b[0m\n\u001b[0;32m    411\u001b[0m     \u001b[38;5;28;01mpass\u001b[39;00m\n\u001b[0;32m    413\u001b[0m \u001b[38;5;28;01mtry\u001b[39;00m:\n\u001b[0;32m    414\u001b[0m     file_obj \u001b[38;5;241m=\u001b[39m fsspec\u001b[38;5;241m.\u001b[39mopen(\n\u001b[0;32m    415\u001b[0m         filepath_or_buffer, mode\u001b[38;5;241m=\u001b[39mfsspec_mode, \u001b[38;5;241m*\u001b[39m\u001b[38;5;241m*\u001b[39m(storage_options \u001b[38;5;129;01mor\u001b[39;00m {})\n\u001b[1;32m--> 416\u001b[0m     )\u001b[38;5;241m.\u001b[39mopen()\n\u001b[0;32m    417\u001b[0m \u001b[38;5;66;03m# GH 34626 Reads from Public Buckets without Credentials needs anon=True\u001b[39;00m\n\u001b[0;32m    418\u001b[0m \u001b[38;5;28;01mexcept\u001b[39;00m \u001b[38;5;28mtuple\u001b[39m(err_types_to_retry_with_anon):\n",
      "File \u001b[1;32m~\\anaconda3\\Lib\\site-packages\\fsspec\\core.py:134\u001b[0m, in \u001b[0;36mOpenFile.open\u001b[1;34m(self)\u001b[0m\n\u001b[0;32m    127\u001b[0m \u001b[38;5;28;01mdef\u001b[39;00m \u001b[38;5;21mopen\u001b[39m(\u001b[38;5;28mself\u001b[39m):\n\u001b[0;32m    128\u001b[0m \u001b[38;5;250m    \u001b[39m\u001b[38;5;124;03m\"\"\"Materialise this as a real open file without context\u001b[39;00m\n\u001b[0;32m    129\u001b[0m \n\u001b[0;32m    130\u001b[0m \u001b[38;5;124;03m    The OpenFile object should be explicitly closed to avoid enclosed file\u001b[39;00m\n\u001b[0;32m    131\u001b[0m \u001b[38;5;124;03m    instances persisting. You must, therefore, keep a reference to the OpenFile\u001b[39;00m\n\u001b[0;32m    132\u001b[0m \u001b[38;5;124;03m    during the life of the file-like it generates.\u001b[39;00m\n\u001b[0;32m    133\u001b[0m \u001b[38;5;124;03m    \"\"\"\u001b[39;00m\n\u001b[1;32m--> 134\u001b[0m     \u001b[38;5;28;01mreturn\u001b[39;00m \u001b[38;5;28mself\u001b[39m\u001b[38;5;241m.\u001b[39m\u001b[38;5;21m__enter__\u001b[39m()\n",
      "File \u001b[1;32m~\\anaconda3\\Lib\\site-packages\\fsspec\\core.py:102\u001b[0m, in \u001b[0;36mOpenFile.__enter__\u001b[1;34m(self)\u001b[0m\n\u001b[0;32m     99\u001b[0m \u001b[38;5;28;01mdef\u001b[39;00m \u001b[38;5;21m__enter__\u001b[39m(\u001b[38;5;28mself\u001b[39m):\n\u001b[0;32m    100\u001b[0m     mode \u001b[38;5;241m=\u001b[39m \u001b[38;5;28mself\u001b[39m\u001b[38;5;241m.\u001b[39mmode\u001b[38;5;241m.\u001b[39mreplace(\u001b[38;5;124m\"\u001b[39m\u001b[38;5;124mt\u001b[39m\u001b[38;5;124m\"\u001b[39m, \u001b[38;5;124m\"\u001b[39m\u001b[38;5;124m\"\u001b[39m)\u001b[38;5;241m.\u001b[39mreplace(\u001b[38;5;124m\"\u001b[39m\u001b[38;5;124mb\u001b[39m\u001b[38;5;124m\"\u001b[39m, \u001b[38;5;124m\"\u001b[39m\u001b[38;5;124m\"\u001b[39m) \u001b[38;5;241m+\u001b[39m \u001b[38;5;124m\"\u001b[39m\u001b[38;5;124mb\u001b[39m\u001b[38;5;124m\"\u001b[39m\n\u001b[1;32m--> 102\u001b[0m     f \u001b[38;5;241m=\u001b[39m \u001b[38;5;28mself\u001b[39m\u001b[38;5;241m.\u001b[39mfs\u001b[38;5;241m.\u001b[39mopen(\u001b[38;5;28mself\u001b[39m\u001b[38;5;241m.\u001b[39mpath, mode\u001b[38;5;241m=\u001b[39mmode)\n\u001b[0;32m    104\u001b[0m     \u001b[38;5;28mself\u001b[39m\u001b[38;5;241m.\u001b[39mfobjects \u001b[38;5;241m=\u001b[39m [f]\n\u001b[0;32m    106\u001b[0m     \u001b[38;5;28;01mif\u001b[39;00m \u001b[38;5;28mself\u001b[39m\u001b[38;5;241m.\u001b[39mcompression \u001b[38;5;129;01mis\u001b[39;00m \u001b[38;5;129;01mnot\u001b[39;00m \u001b[38;5;28;01mNone\u001b[39;00m:\n",
      "File \u001b[1;32m~\\anaconda3\\Lib\\site-packages\\fsspec\\spec.py:1154\u001b[0m, in \u001b[0;36mAbstractFileSystem.open\u001b[1;34m(self, path, mode, block_size, cache_options, compression, **kwargs)\u001b[0m\n\u001b[0;32m   1152\u001b[0m \u001b[38;5;28;01melse\u001b[39;00m:\n\u001b[0;32m   1153\u001b[0m     ac \u001b[38;5;241m=\u001b[39m kwargs\u001b[38;5;241m.\u001b[39mpop(\u001b[38;5;124m\"\u001b[39m\u001b[38;5;124mautocommit\u001b[39m\u001b[38;5;124m\"\u001b[39m, \u001b[38;5;129;01mnot\u001b[39;00m \u001b[38;5;28mself\u001b[39m\u001b[38;5;241m.\u001b[39m_intrans)\n\u001b[1;32m-> 1154\u001b[0m     f \u001b[38;5;241m=\u001b[39m \u001b[38;5;28mself\u001b[39m\u001b[38;5;241m.\u001b[39m_open(\n\u001b[0;32m   1155\u001b[0m         path,\n\u001b[0;32m   1156\u001b[0m         mode\u001b[38;5;241m=\u001b[39mmode,\n\u001b[0;32m   1157\u001b[0m         block_size\u001b[38;5;241m=\u001b[39mblock_size,\n\u001b[0;32m   1158\u001b[0m         autocommit\u001b[38;5;241m=\u001b[39mac,\n\u001b[0;32m   1159\u001b[0m         cache_options\u001b[38;5;241m=\u001b[39mcache_options,\n\u001b[0;32m   1160\u001b[0m         \u001b[38;5;241m*\u001b[39m\u001b[38;5;241m*\u001b[39mkwargs,\n\u001b[0;32m   1161\u001b[0m     )\n\u001b[0;32m   1162\u001b[0m     \u001b[38;5;28;01mif\u001b[39;00m compression \u001b[38;5;129;01mis\u001b[39;00m \u001b[38;5;129;01mnot\u001b[39;00m \u001b[38;5;28;01mNone\u001b[39;00m:\n\u001b[0;32m   1163\u001b[0m         \u001b[38;5;28;01mfrom\u001b[39;00m \u001b[38;5;21;01mfsspec\u001b[39;00m\u001b[38;5;21;01m.\u001b[39;00m\u001b[38;5;21;01mcompression\u001b[39;00m \u001b[38;5;28;01mimport\u001b[39;00m compr\n",
      "File \u001b[1;32m~\\anaconda3\\Lib\\site-packages\\fsspec\\implementations\\local.py:183\u001b[0m, in \u001b[0;36mLocalFileSystem._open\u001b[1;34m(self, path, mode, block_size, **kwargs)\u001b[0m\n\u001b[0;32m    181\u001b[0m \u001b[38;5;28;01mif\u001b[39;00m \u001b[38;5;28mself\u001b[39m\u001b[38;5;241m.\u001b[39mauto_mkdir \u001b[38;5;129;01mand\u001b[39;00m \u001b[38;5;124m\"\u001b[39m\u001b[38;5;124mw\u001b[39m\u001b[38;5;124m\"\u001b[39m \u001b[38;5;129;01min\u001b[39;00m mode:\n\u001b[0;32m    182\u001b[0m     \u001b[38;5;28mself\u001b[39m\u001b[38;5;241m.\u001b[39mmakedirs(\u001b[38;5;28mself\u001b[39m\u001b[38;5;241m.\u001b[39m_parent(path), exist_ok\u001b[38;5;241m=\u001b[39m\u001b[38;5;28;01mTrue\u001b[39;00m)\n\u001b[1;32m--> 183\u001b[0m \u001b[38;5;28;01mreturn\u001b[39;00m LocalFileOpener(path, mode, fs\u001b[38;5;241m=\u001b[39m\u001b[38;5;28mself\u001b[39m, \u001b[38;5;241m*\u001b[39m\u001b[38;5;241m*\u001b[39mkwargs)\n",
      "File \u001b[1;32m~\\anaconda3\\Lib\\site-packages\\fsspec\\implementations\\local.py:287\u001b[0m, in \u001b[0;36mLocalFileOpener.__init__\u001b[1;34m(self, path, mode, autocommit, fs, compression, **kwargs)\u001b[0m\n\u001b[0;32m    285\u001b[0m \u001b[38;5;28mself\u001b[39m\u001b[38;5;241m.\u001b[39mcompression \u001b[38;5;241m=\u001b[39m get_compression(path, compression)\n\u001b[0;32m    286\u001b[0m \u001b[38;5;28mself\u001b[39m\u001b[38;5;241m.\u001b[39mblocksize \u001b[38;5;241m=\u001b[39m io\u001b[38;5;241m.\u001b[39mDEFAULT_BUFFER_SIZE\n\u001b[1;32m--> 287\u001b[0m \u001b[38;5;28mself\u001b[39m\u001b[38;5;241m.\u001b[39m_open()\n",
      "File \u001b[1;32m~\\anaconda3\\Lib\\site-packages\\fsspec\\implementations\\local.py:292\u001b[0m, in \u001b[0;36mLocalFileOpener._open\u001b[1;34m(self)\u001b[0m\n\u001b[0;32m    290\u001b[0m \u001b[38;5;28;01mif\u001b[39;00m \u001b[38;5;28mself\u001b[39m\u001b[38;5;241m.\u001b[39mf \u001b[38;5;129;01mis\u001b[39;00m \u001b[38;5;28;01mNone\u001b[39;00m \u001b[38;5;129;01mor\u001b[39;00m \u001b[38;5;28mself\u001b[39m\u001b[38;5;241m.\u001b[39mf\u001b[38;5;241m.\u001b[39mclosed:\n\u001b[0;32m    291\u001b[0m     \u001b[38;5;28;01mif\u001b[39;00m \u001b[38;5;28mself\u001b[39m\u001b[38;5;241m.\u001b[39mautocommit \u001b[38;5;129;01mor\u001b[39;00m \u001b[38;5;124m\"\u001b[39m\u001b[38;5;124mw\u001b[39m\u001b[38;5;124m\"\u001b[39m \u001b[38;5;129;01mnot\u001b[39;00m \u001b[38;5;129;01min\u001b[39;00m \u001b[38;5;28mself\u001b[39m\u001b[38;5;241m.\u001b[39mmode:\n\u001b[1;32m--> 292\u001b[0m         \u001b[38;5;28mself\u001b[39m\u001b[38;5;241m.\u001b[39mf \u001b[38;5;241m=\u001b[39m \u001b[38;5;28mopen\u001b[39m(\u001b[38;5;28mself\u001b[39m\u001b[38;5;241m.\u001b[39mpath, mode\u001b[38;5;241m=\u001b[39m\u001b[38;5;28mself\u001b[39m\u001b[38;5;241m.\u001b[39mmode)\n\u001b[0;32m    293\u001b[0m         \u001b[38;5;28;01mif\u001b[39;00m \u001b[38;5;28mself\u001b[39m\u001b[38;5;241m.\u001b[39mcompression:\n\u001b[0;32m    294\u001b[0m             compress \u001b[38;5;241m=\u001b[39m compr[\u001b[38;5;28mself\u001b[39m\u001b[38;5;241m.\u001b[39mcompression]\n",
      "\u001b[1;31mFileNotFoundError\u001b[0m: [Errno 2] No such file or directory: 'C:/Users/thiru/Downloads/mini project/Capstone Project 1-20240822T144922Z-001/Capstone Project 1/datasets/valid.xlsx'"
     ]
    }
   ],
   "source": [
    "# Assuming your validation data is stored in a CSV file called 'validation_data.csv'\n",
    "validation_df =pd.read_excel(\"C://Users//thiru//Downloads//mini project//Capstone Project 1-20240822T144922Z-001//Capstone Project 1//datasets//valid.xlsx\")\n",
    "\n",
    "# Drop columns similar to the ones you dropped for training data\n",
    "X_validation = validation_df.drop(['Name','onlineplatforms', 'Sex', 'Distancekeptbetweeneyesandgadjet', 'levelofgadjetwithrespecttoeyes', \n",
    "                                   'Duration', 'Difficultyinfocusingafterusingscreens', 'frequencyofdryeyes','screenillumination'], \n",
    "                                  axis=1)\n",
    "\n",
    "# Make predictions on validation data\n",
    "validation_pred1 = clf1.predict(X_validation)\n",
    "validation_pred2 = clf2.predict(X_validation)\n",
    "validation_pred3 = clf3.predict(X_validation)\n",
    "validation_pred4 = clf4.predict(X_validation)\n",
    "print(\"Predictions from clf1:\", validation_pred1)\n",
    "print(\"Predictions from clf2:\", validation_pred2)\n",
    "print(\"Predictions from clf3:\", validation_pred3)\n",
    "print(\"Predictions from clf4:\", validation_pred4)\n",
    "\n",
    "\n",
    "# You'll have arrays of predictions for each model (validation_pred1, validation_pred2, validation_pred3, validation_pred4)\n",
    "# You can use these predictions as needed for your application\n"
   ]
  },
  {
   "cell_type": "code",
   "execution_count": 6,
   "id": "7c8d4c26",
   "metadata": {},
   "outputs": [
    {
     "name": "stdout",
     "output_type": "stream",
     "text": [
      "<class 'pandas.core.frame.DataFrame'>\n",
      "RangeIndex: 300 entries, 0 to 299\n",
      "Data columns (total 26 columns):\n",
      " #   Column                                  Non-Null Count  Dtype \n",
      "---  ------                                  --------------  ----- \n",
      " 0   Age                                     300 non-null    int64 \n",
      " 1   Sex                                     300 non-null    int64 \n",
      " 2   wearables                               300 non-null    int64 \n",
      " 3   Duration                                300 non-null    int64 \n",
      " 4   onlineplatforms                         300 non-null    int64 \n",
      " 5   Nature                                  300 non-null    int64 \n",
      " 6   screenillumination                      300 non-null    int64 \n",
      " 7   workingyears                            300 non-null    int64 \n",
      " 8   hoursspentdailycurricular               300 non-null    int64 \n",
      " 9   hoursspentdailynoncurricular            300 non-null    int64 \n",
      " 10  Gadgetsused                             300 non-null    int64 \n",
      " 11  levelofgadjetwithrespecttoeyes          300 non-null    int64 \n",
      " 12  Distancekeptbetweeneyesandgadjet        300 non-null    int64 \n",
      " 13  Avgnighttimeusageperday                 300 non-null    int64 \n",
      " 14  Blinkingduringscreenusage               300 non-null    int64 \n",
      " 15  Difficultyinfocusingafterusingscreens   300 non-null    int64 \n",
      " 16  freqquencyofcomplaints                  300 non-null    int64 \n",
      " 17  Severityofcomplaints                    300 non-null    int64 \n",
      " 18  Ocularsymptomsobservedlately            300 non-null    int64 \n",
      " 19  Symptomsobservingatleasthalfofthetimes  300 non-null    int64 \n",
      " 20  Complaintsfrequency                     300 non-null    int64 \n",
      " 21  frequencyofdryeyes                      300 non-null    int64 \n",
      " 22  Schimers1Lefteye_1                      300 non-null    object\n",
      " 23  Schimers1righteye_1                     300 non-null    object\n",
      " 24  Schimers2Lefteye_1                      300 non-null    object\n",
      " 25  Schimers2righteye_1                     300 non-null    object\n",
      "dtypes: int64(22), object(4)\n",
      "memory usage: 61.1+ KB\n"
     ]
    }
   ],
   "source": [
    "df.info()"
   ]
  },
  {
   "cell_type": "code",
   "execution_count": 7,
   "id": "0d4cc7b0",
   "metadata": {},
   "outputs": [
    {
     "data": {
      "text/plain": [
       "Index(['Age', 'Sex', 'wearables', 'Duration', 'onlineplatforms', 'Nature',\n",
       "       'screenillumination', 'workingyears', 'hoursspentdailycurricular',\n",
       "       'hoursspentdailynoncurricular', 'Gadgetsused',\n",
       "       'levelofgadjetwithrespecttoeyes', 'Distancekeptbetweeneyesandgadjet',\n",
       "       'Avgnighttimeusageperday', 'Blinkingduringscreenusage',\n",
       "       'Difficultyinfocusingafterusingscreens', 'freqquencyofcomplaints',\n",
       "       'Severityofcomplaints', 'Ocularsymptomsobservedlately',\n",
       "       'Symptomsobservingatleasthalfofthetimes', 'Complaintsfrequency',\n",
       "       'frequencyofdryeyes', 'Schimers1Lefteye_1', 'Schimers1righteye_1',\n",
       "       'Schimers2Lefteye_1', 'Schimers2righteye_1'],\n",
       "      dtype='object')"
      ]
     },
     "execution_count": 7,
     "metadata": {},
     "output_type": "execute_result"
    }
   ],
   "source": [
    "df.columns"
   ]
  },
  {
   "cell_type": "code",
   "execution_count": null,
   "id": "664e4cee",
   "metadata": {},
   "outputs": [],
   "source": []
  }
 ],
 "metadata": {
  "kernelspec": {
   "display_name": "Python 3 (ipykernel)",
   "language": "python",
   "name": "python3"
  },
  "language_info": {
   "codemirror_mode": {
    "name": "ipython",
    "version": 3
   },
   "file_extension": ".py",
   "mimetype": "text/x-python",
   "name": "python",
   "nbconvert_exporter": "python",
   "pygments_lexer": "ipython3",
   "version": "3.11.5"
  }
 },
 "nbformat": 4,
 "nbformat_minor": 5
}
